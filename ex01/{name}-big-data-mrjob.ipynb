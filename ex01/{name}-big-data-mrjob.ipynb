{
 "cells": [
  {
   "cell_type": "markdown",
   "metadata": {},
   "source": [
    "# Assignment on Map-Reduce"
   ]
  },
  {
   "cell_type": "markdown",
   "metadata": {},
   "source": [
    "In the following questions, you will solve real problems with the techniques you have learned before. You will be working with data of **google play dataset** which includes the following datasets: \n",
    "1. googleplaystore\n",
    "2. googleplaystore review\n",
    "\n",
    "*You can find the data files on the archive have attached to this exercise.*"
   ]
  },
  {
   "cell_type": "markdown",
   "metadata": {},
   "source": [
    "**T** (10pts) Number of applications according to the version of Android(output must be sorted)\n",
    "\n",
    "\n",
    "> result: \n",
    "`<version, count>`"
   ]
  },
  {
   "cell_type": "code",
   "execution_count": 85,
   "metadata": {},
   "outputs": [
    {
     "name": "stdout",
     "output_type": "stream",
     "text": [
      "Overwriting version_count.py\n"
     ]
    }
   ],
   "source": [
    "%%file version_count.py\n",
    "from mrjob.job import MRJob,MRStep\n",
    "from mrjob.protocol import TextValueProtocol\n",
    "class MRVersionCount(MRJob):\n",
    "    INPUT_PROTOCOL=TextValueProtocol\n",
    "    def steps(self):\n",
    "        return [\n",
    "            MRStep(mapper=self.mapper_count_version,\n",
    "                   combiner=self.combiner_count_version,\n",
    "                   reducer=self.reducer_count_version),\n",
    "            ]\n",
    "    def mapper_count_version(self, _, line):\n",
    "        version=line.strip().split('∑')[-1]\n",
    "        if version not in ['Android Ver']:\n",
    "            yield version,1\n",
    "\n",
    "    def combiner_count_version(self, version, counts):\n",
    "        yield (version, sum(counts))\n",
    "\n",
    "    def reducer_count_version(self, version, counts):\n",
    "        yield version, sum(counts)\n",
    "        pass\n",
    "\n",
    "if __name__=='__main__':\n",
    "    MRVersionCount.run()"
   ]
  },
  {
   "attachments": {},
   "cell_type": "markdown",
   "metadata": {},
   "source": [
    "#### Important note\n",
    "When using TextValueProtocol, each line behave as utf-8 encoded str."
   ]
  },
  {
   "cell_type": "code",
   "execution_count": 86,
   "metadata": {},
   "outputs": [
    {
     "name": "stdout",
     "output_type": "stream",
     "text": [
      "\"1.0 and up\"\t2\n",
      "\"1.5 and up\"\t20\n",
      "\"1.6 and up\"\t116\n",
      "\"2.0 and up\"\t32\n",
      "\"2.0.1 and up\"\t7\n",
      "\"2.1 and up\"\t134\n",
      "\"2.2 - 7.1.1\"\t1\n",
      "\"2.2 and up\"\t244\n",
      "\"2.3 and up\"\t652\n",
      "\"2.3.3 and up\"\t281\n",
      "\"3.0 and up\"\t241\n",
      "\"3.1 and up\"\t10\n",
      "\"3.2 and up\"\t36\n",
      "\"4.0 and up\"\t1375\n",
      "\"4.0.3 - 7.1.1\"\t2\n",
      "\"4.0.3 and up\"\t1501\n",
      "\"4.1 - 7.1.1\"\t1\n",
      "\"4.1 and up\"\t2451\n",
      "\"4.2 and up\"\t394\n",
      "\"4.3 and up\"\t243\n",
      "\"4.4 and up\"\t980\n",
      "\"4.4W and up\"\t12\n",
      "\"5.0 - 6.0\"\t1\n",
      "\"5.0 - 7.1.1\"\t1\n",
      "\"5.0 - 8.0\"\t2\n",
      "\"5.0 and up\"\t600\n",
      "\"5.1 and up\"\t24\n",
      "\"6.0 and up\"\t60\n",
      "\"7.0 - 7.1.1\"\t1\n",
      "\"7.0 and up\"\t42\n",
      "\"7.1 and up\"\t3\n",
      "\"8.0 and up\"\t6\n",
      "\"NaN\"\t2\n",
      "\"Varies with device\"\t1362\n"
     ]
    },
    {
     "name": "stderr",
     "output_type": "stream",
     "text": [
      "No configs found; falling back on auto-configuration\n",
      "No configs specified for inline runner\n",
      "Creating temp directory C:\\Users\\MOHAMM~1\\AppData\\Local\\Temp\\version_count.Mohammadreza.20230109.191151.402070\n",
      "Running step 1 of 1...\n",
      "job output is in C:\\Users\\MOHAMM~1\\AppData\\Local\\Temp\\version_count.Mohammadreza.20230109.191151.402070\\output\n",
      "Streaming final output from C:\\Users\\MOHAMM~1\\AppData\\Local\\Temp\\version_count.Mohammadreza.20230109.191151.402070\\output...\n",
      "Removing temp directory C:\\Users\\MOHAMM~1\\AppData\\Local\\Temp\\version_count.Mohammadreza.20230109.191151.402070...\n"
     ]
    }
   ],
   "source": [
    "!python version_count.py googleplaystore.txt"
   ]
  },
  {
   "cell_type": "code",
   "execution_count": 115,
   "metadata": {},
   "outputs": [
    {
     "name": "stdout",
     "output_type": "stream",
     "text": [
      "Overwriting version_count_optimized.py\n"
     ]
    }
   ],
   "source": [
    "%%file version_count_optimized.py\n",
    "from mrjob.job import MRJob,MRStep\n",
    "from mrjob.protocol import TextValueProtocol\n",
    "from mrjob import protocol\n",
    "\n",
    "class MRVersionCount(MRJob):\n",
    "    INPUT_PROTOCOL=TextValueProtocol\n",
    "    def configure_args(self):\n",
    "        super(MRVersionCount, self).configure_args()\n",
    "        self.add_passthru_arg(\n",
    "        '--ignore-words', \n",
    "        type=str, \n",
    "        default='', \n",
    "        help='how many lines skipped from the first of input file')\n",
    "\n",
    "    def steps(self):\n",
    "        return [\n",
    "            MRStep(\n",
    "                mapper_init=self.mapper_skip_lines,\n",
    "                mapper=self.mapper_count_version,\n",
    "                combiner=self.combiner_count_version,\n",
    "                reducer=self.reducer_count_version),\n",
    "            ]\n",
    "    def mapper_skip_lines(self):\n",
    "        self.ignore_words = self\\\n",
    "            .options\\\n",
    "                .ignore_words\\\n",
    "                    .strip()\\\n",
    "                        .split(',')\n",
    "    def mapper_count_version(self, _, line):\n",
    "        version=line.strip().split('∑')[-1]\n",
    "        if version not in self.ignore_words:\n",
    "            yield version,1\n",
    "\n",
    "    def combiner_count_version(self, version, counts):\n",
    "        yield (version, sum(counts))\n",
    "\n",
    "    def reducer_count_version(self, version, counts):\n",
    "        yield version, sum(counts)\n",
    "        pass\n",
    "\n",
    "if __name__=='__main__':\n",
    "    MRVersionCount.run()"
   ]
  },
  {
   "cell_type": "code",
   "execution_count": 106,
   "metadata": {},
   "outputs": [
    {
     "name": "stdout",
     "output_type": "stream",
     "text": [
      "\"1.0 and up\"\t2\n",
      "\"1.5 and up\"\t20\n",
      "\"1.6 and up\"\t116\n",
      "\"2.0 and up\"\t32\n",
      "\"2.0.1 and up\"\t7\n",
      "\"2.1 and up\"\t134\n",
      "\"2.2 - 7.1.1\"\t1\n",
      "\"2.2 and up\"\t244\n",
      "\"2.3 and up\"\t652\n",
      "\"2.3.3 and up\"\t281\n",
      "\"3.0 and up\"\t241\n",
      "\"3.1 and up\"\t10\n",
      "\"3.2 and up\"\t36\n",
      "\"4.0 and up\"\t1375\n",
      "\"4.0.3 - 7.1.1\"\t2\n",
      "\"4.0.3 and up\"\t1501\n",
      "\"4.1 - 7.1.1\"\t1\n",
      "\"4.1 and up\"\t2451\n",
      "\"4.2 and up\"\t394\n",
      "\"4.3 and up\"\t243\n",
      "\"4.4 and up\"\t980\n",
      "\"4.4W and up\"\t12\n",
      "\"5.0 - 6.0\"\t1\n",
      "\"5.0 - 7.1.1\"\t1\n",
      "\"5.0 - 8.0\"\t2\n",
      "\"5.0 and up\"\t600\n",
      "\"5.1 and up\"\t24\n",
      "\"6.0 and up\"\t60\n",
      "\"7.0 - 7.1.1\"\t1\n",
      "\"7.0 and up\"\t42\n",
      "\"7.1 and up\"\t3\n",
      "\"8.0 and up\"\t6\n",
      "\"Varies with device\"\t1362\n"
     ]
    },
    {
     "name": "stderr",
     "output_type": "stream",
     "text": [
      "No configs found; falling back on auto-configuration\n",
      "No configs specified for inline runner\n",
      "Creating temp directory C:\\Users\\MOHAMM~1\\AppData\\Local\\Temp\\version_count_optimized.Mohammadreza.20230109.192430.052762\n",
      "Running step 1 of 1...\n",
      "job output is in C:\\Users\\MOHAMM~1\\AppData\\Local\\Temp\\version_count_optimized.Mohammadreza.20230109.192430.052762\\output\n",
      "Streaming final output from C:\\Users\\MOHAMM~1\\AppData\\Local\\Temp\\version_count_optimized.Mohammadreza.20230109.192430.052762\\output...\n",
      "Removing temp directory C:\\Users\\MOHAMM~1\\AppData\\Local\\Temp\\version_count_optimized.Mohammadreza.20230109.192430.052762...\n"
     ]
    }
   ],
   "source": [
    "!python version_count_optimized.py \\\n",
    "    googleplaystore.txt \\\n",
    "    --ignore-words=\"Android Ver,NaN\""
   ]
  },
  {
   "attachments": {},
   "cell_type": "markdown",
   "metadata": {},
   "source": [
    "#### Mrjob Test Case"
   ]
  },
  {
   "cell_type": "code",
   "execution_count": 23,
   "metadata": {},
   "outputs": [
    {
     "name": "stderr",
     "output_type": "stream",
     "text": [
      "..\n",
      "----------------------------------------------------------------------\n",
      "Ran 2 tests in 0.008s\n",
      "\n",
      "OK\n"
     ]
    }
   ],
   "source": [
    "from unittest import TestCase\n",
    "import unittest\n",
    "from version_count_optimized import MRVersionCount\n",
    "\n",
    "class MRVersionCountTestCase(TestCase):\n",
    "    def test_mapper(self):\n",
    "        j = MRVersionCount([])\n",
    "        j.mapper_skip_lines()\n",
    "        self.assertEqual(next(j.mapper_count_version(None,'NaN')),('NaN',1))\n",
    "\n",
    "    def test_mapper_ignore_words(self):\n",
    "        j = MRVersionCount(['--ignore-words=Android Ver,NaN'])\n",
    "        j.mapper_skip_lines()\n",
    "        with self.assertRaises(StopIteration):\n",
    "            next(j.mapper_count_version(None, \"NaN\"))\n",
    "\n",
    "if __name__ == \"__main__\":\n",
    "    suite = unittest.defaultTestLoader.loadTestsFromTestCase(MRVersionCountTestCase)\n",
    "    unittest.TextTestRunner().run(suite)"
   ]
  },
  {
   "cell_type": "code",
   "execution_count": 110,
   "metadata": {},
   "outputs": [
    {
     "ename": "AttributeError",
     "evalue": "'MRVersionCountTestCase' object has no attribute 'runTest'",
     "output_type": "error",
     "traceback": [
      "\u001b[1;31m---------------------------------------------------------------------------\u001b[0m",
      "\u001b[1;31mAttributeError\u001b[0m                            Traceback (most recent call last)",
      "Cell \u001b[1;32mIn[110], line 1\u001b[0m\n\u001b[1;32m----> 1\u001b[0m MRVersionCountTestCase()\u001b[39m.\u001b[39;49mrun()\n",
      "File \u001b[1;32mc:\\Users\\Mohammadreza\\AppData\\Local\\Programs\\Python\\Python311\\Lib\\unittest\\case.py:601\u001b[0m, in \u001b[0;36mTestCase.run\u001b[1;34m(self, result)\u001b[0m\n\u001b[0;32m    599\u001b[0m result\u001b[39m.\u001b[39mstartTest(\u001b[39mself\u001b[39m)\n\u001b[0;32m    600\u001b[0m \u001b[39mtry\u001b[39;00m:\n\u001b[1;32m--> 601\u001b[0m     testMethod \u001b[39m=\u001b[39m \u001b[39mgetattr\u001b[39;49m(\u001b[39mself\u001b[39;49m, \u001b[39mself\u001b[39;49m\u001b[39m.\u001b[39;49m_testMethodName)\n\u001b[0;32m    602\u001b[0m     \u001b[39mif\u001b[39;00m (\u001b[39mgetattr\u001b[39m(\u001b[39mself\u001b[39m\u001b[39m.\u001b[39m\u001b[39m__class__\u001b[39m, \u001b[39m\"\u001b[39m\u001b[39m__unittest_skip__\u001b[39m\u001b[39m\"\u001b[39m, \u001b[39mFalse\u001b[39;00m) \u001b[39mor\u001b[39;00m\n\u001b[0;32m    603\u001b[0m         \u001b[39mgetattr\u001b[39m(testMethod, \u001b[39m\"\u001b[39m\u001b[39m__unittest_skip__\u001b[39m\u001b[39m\"\u001b[39m, \u001b[39mFalse\u001b[39;00m)):\n\u001b[0;32m    604\u001b[0m         \u001b[39m# If the class or method was skipped.\u001b[39;00m\n\u001b[0;32m    605\u001b[0m         skip_why \u001b[39m=\u001b[39m (\u001b[39mgetattr\u001b[39m(\u001b[39mself\u001b[39m\u001b[39m.\u001b[39m\u001b[39m__class__\u001b[39m, \u001b[39m'\u001b[39m\u001b[39m__unittest_skip_why__\u001b[39m\u001b[39m'\u001b[39m, \u001b[39m'\u001b[39m\u001b[39m'\u001b[39m)\n\u001b[0;32m    606\u001b[0m                     \u001b[39mor\u001b[39;00m \u001b[39mgetattr\u001b[39m(testMethod, \u001b[39m'\u001b[39m\u001b[39m__unittest_skip_why__\u001b[39m\u001b[39m'\u001b[39m, \u001b[39m'\u001b[39m\u001b[39m'\u001b[39m))\n",
      "\u001b[1;31mAttributeError\u001b[0m: 'MRVersionCountTestCase' object has no attribute 'runTest'"
     ]
    }
   ],
   "source": []
  },
  {
   "cell_type": "markdown",
   "metadata": {},
   "source": [
    "**T** (10pts) K of the best applications in every category(K should be specified by user)\n",
    "\n",
    "\n",
    "> result:\n",
    "`<appname,{other fields} >`"
   ]
  },
  {
   "cell_type": "code",
   "execution_count": null,
   "metadata": {},
   "outputs": [],
   "source": []
  },
  {
   "cell_type": "markdown",
   "metadata": {},
   "source": [
    "**T** (20pts) Number of applications in every category according to version of Android(output must be sorted on Count)\n",
    "\n",
    "> result:\n",
    "`<category, {count, version} >`"
   ]
  },
  {
   "cell_type": "code",
   "execution_count": null,
   "metadata": {},
   "outputs": [],
   "source": []
  },
  {
   "cell_type": "markdown",
   "metadata": {},
   "source": [
    "**T** (60pts) In the review dataset which words have more occurrence in every application(output must be sorted on Count)\n",
    "\n",
    "> result: \n",
    "`<appname, {count, word1, word2} >`\n",
    "\n",
    "`hint:` use secondary sort"
   ]
  },
  {
   "cell_type": "code",
   "execution_count": null,
   "metadata": {},
   "outputs": [],
   "source": []
  }
 ],
 "metadata": {
  "kernelspec": {
   "display_name": "Python 3",
   "language": "python",
   "name": "python3"
  },
  "language_info": {
   "codemirror_mode": {
    "name": "ipython",
    "version": 3
   },
   "file_extension": ".py",
   "mimetype": "text/x-python",
   "name": "python",
   "nbconvert_exporter": "python",
   "pygments_lexer": "ipython3",
   "version": "3.11.1"
  },
  "varInspector": {
   "cols": {
    "lenName": 16,
    "lenType": 16,
    "lenVar": 40
   },
   "kernels_config": {
    "python": {
     "delete_cmd_postfix": "",
     "delete_cmd_prefix": "del ",
     "library": "var_list.py",
     "varRefreshCmd": "print(var_dic_list())"
    },
    "r": {
     "delete_cmd_postfix": ") ",
     "delete_cmd_prefix": "rm(",
     "library": "var_list.r",
     "varRefreshCmd": "cat(var_dic_list()) "
    }
   },
   "types_to_exclude": [
    "module",
    "function",
    "builtin_function_or_method",
    "instance",
    "_Feature"
   ],
   "window_display": false
  },
  "vscode": {
   "interpreter": {
    "hash": "10ca5dbd03c093a7e6689204a8412f29db0393cf6f4955cf61d231b81bb363f1"
   }
  }
 },
 "nbformat": 4,
 "nbformat_minor": 4
}
